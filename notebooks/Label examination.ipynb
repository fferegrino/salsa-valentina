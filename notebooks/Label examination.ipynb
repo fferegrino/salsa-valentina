{
 "cells": [
  {
   "cell_type": "markdown",
   "metadata": {},
   "source": [
    "Let's check the labellings"
   ]
  },
  {
   "cell_type": "code",
   "execution_count": null,
   "metadata": {},
   "outputs": [],
   "source": [
    "from tools import get_data_file\n",
    "from glob import glob\n",
    "import pandas as pd\n",
    "import os\n",
    "import matplotlib.pyplot as plt\n",
    "from PIL import Image\n",
    "import matplotlib.patches as patches"
   ]
  },
  {
   "cell_type": "code",
   "execution_count": null,
   "metadata": {},
   "outputs": [],
   "source": [
    "class_file = get_data_file('raw', 'annotations/classes.txt')\n",
    "annotation_files = set(glob(get_data_file('raw','annotations/*.txt')))\n",
    "annotation_files.remove(class_file)"
   ]
  },
  {
   "cell_type": "code",
   "execution_count": null,
   "metadata": {},
   "outputs": [],
   "source": [
    "with open(class_file) as readable:\n",
    "    classes = pd.DataFrame([[i, class_.strip()] for i, class_ in enumerate(readable)], columns = ['class_id', 'class_name']).set_index('class_id')\n",
    "print(classes)"
   ]
  },
  {
   "cell_type": "code",
   "execution_count": null,
   "metadata": {},
   "outputs": [],
   "source": [
    "in_collection = []\n",
    "for annotation_file in annotation_files:\n",
    "    base_path = os.path.basename(annotation_file)\n",
    "    name, extension = os.path.splitext(base_path)\n",
    "    with open(annotation_file) as r:\n",
    "        in_file = []\n",
    "        for line in r:\n",
    "            values = []\n",
    "            string_values = line.split()\n",
    "            values.append(name)\n",
    "            values.append(int(string_values[0]))\n",
    "            values.extend([float(f) for f in string_values[1:]])\n",
    "            in_file.append(values)\n",
    "    in_collection.extend(in_file)"
   ]
  },
  {
   "cell_type": "markdown",
   "metadata": {},
   "source": [
    "The YOLO format is `class_index | center x | center y | width | height`, all the float quantities are relative to the size of the image, they go from 0 to 1. "
   ]
  },
  {
   "cell_type": "code",
   "execution_count": null,
   "metadata": {},
   "outputs": [],
   "source": [
    "labels = pd.DataFrame(in_collection, columns=['file', 'class_code', 'x1', 'y1', 'width', 'height'])\n",
    "labels['class_code'].value_counts()"
   ]
  },
  {
   "cell_type": "code",
   "execution_count": null,
   "metadata": {},
   "outputs": [],
   "source": [
    "def get_image_path(image):\n",
    "    image = get_data_file('raw', f'images/{image}')\n",
    "    jpg = image + \".jpg\"\n",
    "    if os.path.exists(jpg):\n",
    "        return jpg\n",
    "    jpeg = image + \".jpeg\"\n",
    "    if os.path.exists(jpeg):\n",
    "        return jpeg\n",
    "    png = image + \".png\"\n",
    "    if os.path.exists(png):\n",
    "        return png"
   ]
  },
  {
   "cell_type": "code",
   "execution_count": null,
   "metadata": {},
   "outputs": [],
   "source": [
    "def from_yolo_to_cor(record, shape):\n",
    "    width, height = shape\n",
    "    x_rect = (record['x1'] - record['width']/2) * width\n",
    "    y_rect = (record['y1'] - record['height']/2) * height\n",
    "    width_rect = record['width']* width\n",
    "    height_rect = record['height']* height\n",
    "    return x_rect, y_rect, width_rect, height_rect"
   ]
  },
  {
   "cell_type": "code",
   "execution_count": null,
   "metadata": {},
   "outputs": [],
   "source": [
    "def show_images(frame, ax):\n",
    "    record = frame.iloc[0]\n",
    "    image = Image.open(get_image_path(record['file']))\n",
    "    ax.imshow(image)\n",
    "    for i, record in frame.iterrows():\n",
    "        x_rect, y_rect, width_rect, height_rect = from_yolo_to_cor(record, image.size)\n",
    "        rect = patches.Rectangle((x_rect,y_rect),width_rect,height_rect,linewidth=5,edgecolor='r',facecolor='none')\n",
    "        ax.add_patch(rect)"
   ]
  },
  {
   "cell_type": "code",
   "execution_count": null,
   "metadata": {},
   "outputs": [],
   "source": [
    "fig,((ax1,ax2),(ax3,ax4)) = plt.subplots(2,2, figsize=(15,15))\n",
    "show_images(labels.query(\"file == '22007612_1685751551499815_8558103399201880247_n'\"), ax1)\n",
    "show_images(labels.query(\"file == '1908234_588373041237677_757814605_n'\"), ax2)\n",
    "show_images(labels.query(\"file == '1378024_528478377227144_1884094119_n'\"), ax3)\n",
    "show_images(labels.query(\"file == '60839988_2383493471873859_745013920838968223_n'\"), ax4)\n",
    "plt.tight_layout()"
   ]
  },
  {
   "cell_type": "code",
   "execution_count": null,
   "metadata": {},
   "outputs": [],
   "source": []
  }
 ],
 "metadata": {
  "kernelspec": {
   "display_name": "Python 3",
   "language": "python",
   "name": "python3"
  },
  "language_info": {
   "codemirror_mode": {
    "name": "ipython",
    "version": 3
   },
   "file_extension": ".py",
   "mimetype": "text/x-python",
   "name": "python",
   "nbconvert_exporter": "python",
   "pygments_lexer": "ipython3",
   "version": "3.6.5"
  }
 },
 "nbformat": 4,
 "nbformat_minor": 2
}
