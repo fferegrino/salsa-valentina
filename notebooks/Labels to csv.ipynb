{
 "cells": [
  {
   "cell_type": "markdown",
   "metadata": {},
   "source": [
    "Generate an intermediate csv file for the objects we are trying to identify"
   ]
  },
  {
   "cell_type": "code",
   "execution_count": 2,
   "metadata": {},
   "outputs": [],
   "source": [
    "from tools import get_data_file\n",
    "from glob import glob\n",
    "from pathlib import Path\n",
    "import pandas as pd\n",
    "from PIL import Image\n",
    "import os\n",
    "from tools.utils import relative2absolute\n",
    "from sklearn.model_selection import train_test_split"
   ]
  },
  {
   "cell_type": "markdown",
   "metadata": {},
   "source": [
    "## Load and select classes"
   ]
  },
  {
   "cell_type": "code",
   "execution_count": 3,
   "metadata": {},
   "outputs": [],
   "source": [
    "classes_to_keep = set([\"valentina\", \"valentina-negra\", \"botanera\"])"
   ]
  },
  {
   "cell_type": "code",
   "execution_count": 6,
   "metadata": {},
   "outputs": [],
   "source": [
    "with open(Path('../data/raw/annotations/classes.txt')) as readable:\n",
    "    classes = { i:tag.strip() for i, tag in enumerate(readable) }\n",
    "    rev_class = {v:k for k,v in classes.items()}"
   ]
  },
  {
   "cell_type": "code",
   "execution_count": 7,
   "metadata": {},
   "outputs": [
    {
     "name": "stdout",
     "output_type": "stream",
     "text": [
      "{0, 2, 3}\n"
     ]
    }
   ],
   "source": [
    "ids_to_keep = set([ rev_class[k] for k in classes_to_keep ])\n",
    "print(ids_to_keep)"
   ]
  },
  {
   "cell_type": "code",
   "execution_count": 8,
   "metadata": {},
   "outputs": [
    {
     "data": {
      "text/plain": [
       "(327, 301)"
      ]
     },
     "execution_count": 8,
     "metadata": {},
     "output_type": "execute_result"
    }
   ],
   "source": [
    "def txt_to_frame(txt, headers=False):\n",
    "    df = pd.read_csv(txt, sep=' ', header=None)\n",
    "    if headers:\n",
    "        df.columns = ['class', 'cx', 'cy', 'width', 'height']\n",
    "    return df\n",
    "\n",
    "annotation_files = [annotation for annotation in Path('../data/raw/annotations/').glob('[!classes]*.txt')]\n",
    "filtered_annotations = []\n",
    "annotation = None\n",
    "for annotation_file in annotation_files:\n",
    "    annotation = txt_to_frame(annotation_file)\n",
    "    classes_in_image = set(annotation[0].values)\n",
    "    intersection = classes_in_image.intersection(ids_to_keep)\n",
    "    if intersection:\n",
    "        filtered_annotations.append(annotation_file)\n",
    "len(annotation_files), len(filtered_annotations)"
   ]
  },
  {
   "cell_type": "code",
   "execution_count": 10,
   "metadata": {},
   "outputs": [
    {
     "name": "stdout",
     "output_type": "stream",
     "text": [
      "225 76\n"
     ]
    }
   ],
   "source": [
    "train_annotations, test_annotations = train_test_split(filtered_annotations)\n",
    "print(len(train_annotations), len(test_annotations))"
   ]
  },
  {
   "cell_type": "markdown",
   "metadata": {},
   "source": [
    "## Turn annotations into CSV"
   ]
  },
  {
   "cell_type": "code",
   "execution_count": 18,
   "metadata": {},
   "outputs": [],
   "source": [
    "def annotation_to_frame(annotations):\n",
    "    in_collection = []\n",
    "    for annotation_file in annotations:\n",
    "        image_path = Path('../data/raw/images/', f'{annotation_file.stem}.jpg')\n",
    "        im = Image.open(image_path)\n",
    "        values = []\n",
    "        for i, row in txt_to_frame(annotation_file, headers=True).iterrows():\n",
    "            class_id = row['class']\n",
    "            if class_id  in ids_to_keep:\n",
    "                x, y, w, h = relative2absolute(row['cx'], row['cy'], row['width'], row['height'], \n",
    "                                               img_w=im.size[0], img_h=im.size[1])\n",
    "                \n",
    "                values.append([str(image_path), classes[class_id], w, h, x, y, x+w, y+h ])\n",
    "        in_collection.extend(values)\n",
    "    labels = pd.DataFrame(in_collection, columns=['filename','class',  'width', 'height', 'xmin', 'ymin', 'xmax', 'ymax'])\n",
    "    return labels\n",
    "                \n",
    "        \n",
    "train_frame = annotation_to_frame(train_annotations)\n",
    "test_frame = annotation_to_frame(test_annotations)"
   ]
  },
  {
   "cell_type": "code",
   "execution_count": 19,
   "metadata": {},
   "outputs": [
    {
     "data": {
      "text/html": [
       "<div>\n",
       "<style scoped>\n",
       "    .dataframe tbody tr th:only-of-type {\n",
       "        vertical-align: middle;\n",
       "    }\n",
       "\n",
       "    .dataframe tbody tr th {\n",
       "        vertical-align: top;\n",
       "    }\n",
       "\n",
       "    .dataframe thead th {\n",
       "        text-align: right;\n",
       "    }\n",
       "</style>\n",
       "<table border=\"1\" class=\"dataframe\">\n",
       "  <thead>\n",
       "    <tr style=\"text-align: right;\">\n",
       "      <th></th>\n",
       "      <th>filename</th>\n",
       "      <th>class</th>\n",
       "      <th>width</th>\n",
       "      <th>height</th>\n",
       "      <th>xmin</th>\n",
       "      <th>ymin</th>\n",
       "      <th>xmax</th>\n",
       "      <th>ymax</th>\n",
       "    </tr>\n",
       "  </thead>\n",
       "  <tbody>\n",
       "    <tr>\n",
       "      <th>0</th>\n",
       "      <td>../data/raw/images/64218337_432963984193980_72...</td>\n",
       "      <td>valentina</td>\n",
       "      <td>121</td>\n",
       "      <td>250</td>\n",
       "      <td>271</td>\n",
       "      <td>0</td>\n",
       "      <td>392</td>\n",
       "      <td>250</td>\n",
       "    </tr>\n",
       "    <tr>\n",
       "      <th>1</th>\n",
       "      <td>../data/raw/images/56985623_136113504180235_25...</td>\n",
       "      <td>valentina</td>\n",
       "      <td>71</td>\n",
       "      <td>210</td>\n",
       "      <td>157</td>\n",
       "      <td>196</td>\n",
       "      <td>228</td>\n",
       "      <td>406</td>\n",
       "    </tr>\n",
       "    <tr>\n",
       "      <th>2</th>\n",
       "      <td>../data/raw/images/51228004_2554490001292628_1...</td>\n",
       "      <td>valentina-negra</td>\n",
       "      <td>107</td>\n",
       "      <td>304</td>\n",
       "      <td>191</td>\n",
       "      <td>179</td>\n",
       "      <td>298</td>\n",
       "      <td>483</td>\n",
       "    </tr>\n",
       "    <tr>\n",
       "      <th>3</th>\n",
       "      <td>../data/raw/images/11187023_1628683260702660_8...</td>\n",
       "      <td>botanera</td>\n",
       "      <td>108</td>\n",
       "      <td>375</td>\n",
       "      <td>140</td>\n",
       "      <td>22</td>\n",
       "      <td>248</td>\n",
       "      <td>397</td>\n",
       "    </tr>\n",
       "    <tr>\n",
       "      <th>4</th>\n",
       "      <td>../data/raw/images/11187023_1628683260702660_8...</td>\n",
       "      <td>valentina</td>\n",
       "      <td>101</td>\n",
       "      <td>273</td>\n",
       "      <td>246</td>\n",
       "      <td>118</td>\n",
       "      <td>347</td>\n",
       "      <td>391</td>\n",
       "    </tr>\n",
       "  </tbody>\n",
       "</table>\n",
       "</div>"
      ],
      "text/plain": [
       "                                            filename            class  width  \\\n",
       "0  ../data/raw/images/64218337_432963984193980_72...        valentina    121   \n",
       "1  ../data/raw/images/56985623_136113504180235_25...        valentina     71   \n",
       "2  ../data/raw/images/51228004_2554490001292628_1...  valentina-negra    107   \n",
       "3  ../data/raw/images/11187023_1628683260702660_8...         botanera    108   \n",
       "4  ../data/raw/images/11187023_1628683260702660_8...        valentina    101   \n",
       "\n",
       "   height  xmin  ymin  xmax  ymax  \n",
       "0     250   271     0   392   250  \n",
       "1     210   157   196   228   406  \n",
       "2     304   191   179   298   483  \n",
       "3     375   140    22   248   397  \n",
       "4     273   246   118   347   391  "
      ]
     },
     "execution_count": 19,
     "metadata": {},
     "output_type": "execute_result"
    }
   ],
   "source": [
    "train_frame.head()"
   ]
  },
  {
   "cell_type": "code",
   "execution_count": 20,
   "metadata": {},
   "outputs": [
    {
     "data": {
      "text/html": [
       "<div>\n",
       "<style scoped>\n",
       "    .dataframe tbody tr th:only-of-type {\n",
       "        vertical-align: middle;\n",
       "    }\n",
       "\n",
       "    .dataframe tbody tr th {\n",
       "        vertical-align: top;\n",
       "    }\n",
       "\n",
       "    .dataframe thead th {\n",
       "        text-align: right;\n",
       "    }\n",
       "</style>\n",
       "<table border=\"1\" class=\"dataframe\">\n",
       "  <thead>\n",
       "    <tr style=\"text-align: right;\">\n",
       "      <th></th>\n",
       "      <th>filename</th>\n",
       "      <th>class</th>\n",
       "      <th>width</th>\n",
       "      <th>height</th>\n",
       "      <th>xmin</th>\n",
       "      <th>ymin</th>\n",
       "      <th>xmax</th>\n",
       "      <th>ymax</th>\n",
       "    </tr>\n",
       "  </thead>\n",
       "  <tbody>\n",
       "    <tr>\n",
       "      <th>0</th>\n",
       "      <td>../data/raw/images/58408882_136097377469569_33...</td>\n",
       "      <td>valentina</td>\n",
       "      <td>30</td>\n",
       "      <td>85</td>\n",
       "      <td>217</td>\n",
       "      <td>275</td>\n",
       "      <td>247</td>\n",
       "      <td>360</td>\n",
       "    </tr>\n",
       "    <tr>\n",
       "      <th>1</th>\n",
       "      <td>../data/raw/images/12027727_898240143584297_56...</td>\n",
       "      <td>valentina-negra</td>\n",
       "      <td>129</td>\n",
       "      <td>365</td>\n",
       "      <td>307</td>\n",
       "      <td>114</td>\n",
       "      <td>436</td>\n",
       "      <td>479</td>\n",
       "    </tr>\n",
       "    <tr>\n",
       "      <th>2</th>\n",
       "      <td>../data/raw/images/11191051_780300458735533_15...</td>\n",
       "      <td>botanera</td>\n",
       "      <td>135</td>\n",
       "      <td>212</td>\n",
       "      <td>150</td>\n",
       "      <td>13</td>\n",
       "      <td>285</td>\n",
       "      <td>225</td>\n",
       "    </tr>\n",
       "    <tr>\n",
       "      <th>3</th>\n",
       "      <td>../data/raw/images/60065865_167479797603427_60...</td>\n",
       "      <td>valentina</td>\n",
       "      <td>101</td>\n",
       "      <td>203</td>\n",
       "      <td>105</td>\n",
       "      <td>0</td>\n",
       "      <td>206</td>\n",
       "      <td>203</td>\n",
       "    </tr>\n",
       "    <tr>\n",
       "      <th>4</th>\n",
       "      <td>../data/raw/images/996895_493572574051058_3161...</td>\n",
       "      <td>valentina</td>\n",
       "      <td>161</td>\n",
       "      <td>453</td>\n",
       "      <td>166</td>\n",
       "      <td>23</td>\n",
       "      <td>327</td>\n",
       "      <td>476</td>\n",
       "    </tr>\n",
       "  </tbody>\n",
       "</table>\n",
       "</div>"
      ],
      "text/plain": [
       "                                            filename            class  width  \\\n",
       "0  ../data/raw/images/58408882_136097377469569_33...        valentina     30   \n",
       "1  ../data/raw/images/12027727_898240143584297_56...  valentina-negra    129   \n",
       "2  ../data/raw/images/11191051_780300458735533_15...         botanera    135   \n",
       "3  ../data/raw/images/60065865_167479797603427_60...        valentina    101   \n",
       "4  ../data/raw/images/996895_493572574051058_3161...        valentina    161   \n",
       "\n",
       "   height  xmin  ymin  xmax  ymax  \n",
       "0      85   217   275   247   360  \n",
       "1     365   307   114   436   479  \n",
       "2     212   150    13   285   225  \n",
       "3     203   105     0   206   203  \n",
       "4     453   166    23   327   476  "
      ]
     },
     "execution_count": 20,
     "metadata": {},
     "output_type": "execute_result"
    }
   ],
   "source": [
    "test_frame.head()"
   ]
  },
  {
   "cell_type": "code",
   "execution_count": 26,
   "metadata": {},
   "outputs": [
    {
     "data": {
      "text/plain": [
       "{'botanera': 27, 'valentina': 220, 'valentina-negra': 76}"
      ]
     },
     "execution_count": 26,
     "metadata": {},
     "output_type": "execute_result"
    }
   ],
   "source": [
    "train_frame.groupby('class')['class'].count().to_dict()"
   ]
  },
  {
   "cell_type": "code",
   "execution_count": 27,
   "metadata": {},
   "outputs": [
    {
     "data": {
      "text/plain": [
       "{'botanera': 6, 'valentina': 70, 'valentina-negra': 25}"
      ]
     },
     "execution_count": 27,
     "metadata": {},
     "output_type": "execute_result"
    }
   ],
   "source": [
    "test_frame.groupby('class')['class'].count().to_dict()"
   ]
  },
  {
   "cell_type": "code",
   "execution_count": null,
   "metadata": {},
   "outputs": [],
   "source": [
    "train.to_csv(get_data_file('interim', 'train.csv'))\n",
    "test.to_csv(get_data_file('interim', 'test.csv'))"
   ]
  },
  {
   "cell_type": "markdown",
   "metadata": {},
   "source": [
    "Now, it is possible to use [Swaini's script](https://raw.githubusercontent.com/Swaini/object_detection_retraining/master/generate_tfrecord.py), located in `src/external/generate_tfrecord.py`, usage, from the root of this repo:\n",
    "\n",
    "**Do not forget to edit the file `generate_tfrecord.py` to add all your classes**\n",
    "\n",
    "```\n",
    "PYTHONPATH=src python src/external/generate_tfrecord.py --input_csv=data/interim/train.csv  --output_tfrecord=data/interim/train.record\n",
    "\n",
    "PYTHONPATH=src python src/external/generate_tfrecord.py --input_csv=data/interim/test.csv  --output_tfrecord=data/interim/test.record\n",
    "```"
   ]
  },
  {
   "cell_type": "code",
   "execution_count": null,
   "metadata": {},
   "outputs": [],
   "source": []
  }
 ],
 "metadata": {
  "kernelspec": {
   "display_name": "Python 3",
   "language": "python",
   "name": "python3"
  },
  "language_info": {
   "codemirror_mode": {
    "name": "ipython",
    "version": 3
   },
   "file_extension": ".py",
   "mimetype": "text/x-python",
   "name": "python",
   "nbconvert_exporter": "python",
   "pygments_lexer": "ipython3",
   "version": "3.6.8"
  }
 },
 "nbformat": 4,
 "nbformat_minor": 2
}
